{
 "cells": [
  {
   "cell_type": "code",
   "execution_count": 1,
   "metadata": {},
   "outputs": [],
   "source": [
    "from pydantic import BaseModel, Field\n",
    "from typing import Literal\n",
    "from openai import OpenAI\n",
    "import instructor\n",
    "\n",
    "# Apply the patch to the OpenAI client\n",
    "# enables response_model keyword\n",
    "client = instructor.from_openai(OpenAI())\n",
    "\n",
    "\n",
    "class ClassificationResponse(BaseModel):\n",
    "    \"\"\"\n",
    "    A few-shot example of text classification:\n",
    "\n",
    "    Examples:\n",
    "    - \"Buy cheap watches now!\": SPAM\n",
    "    - \"Meeting at 3 PM in the conference room\": NOT_SPAM\n",
    "    - \"You've won a free iPhone! Click here\": SPAM\n",
    "    - \"Can you pick up some milk on your way home?\": NOT_SPAM\n",
    "    - \"Increase your followers by 10000 overnight!\": SPAM\n",
    "    \"\"\"\n",
    "\n",
    "    chain_of_thought: str = Field(\n",
    "        ...,\n",
    "        description=\"The chain of thought that led to the prediction.\",\n",
    "    )\n",
    "    label: Literal[\"SPAM\", \"NOT_SPAM\"] = Field(\n",
    "        ...,\n",
    "        description=\"The predicted class label.\",\n",
    "    )"
   ]
  },
  {
   "cell_type": "code",
   "execution_count": 2,
   "metadata": {},
   "outputs": [],
   "source": [
    "def classify(data: str) -> ClassificationResponse:\n",
    "    \"\"\"Perform single-label classification on the input text.\"\"\"\n",
    "    return client.chat.completions.create(\n",
    "        model=\"gpt-4o-mini\",\n",
    "        response_model=ClassificationResponse,\n",
    "        messages=[\n",
    "            {\n",
    "                \"role\": \"user\",\n",
    "                \"content\": f\"Classify the following text: <text>{data}</text>\",\n",
    "            },\n",
    "        ],\n",
    "    )"
   ]
  },
  {
   "cell_type": "code",
   "execution_count": 3,
   "metadata": {},
   "outputs": [
    {
     "name": "stdout",
     "output_type": "stream",
     "text": [
      "Text: Hey Jason! You're awesome, Predicted Label: NOT_SPAM\n",
      "Text: I am a nigerian prince and I need your help., Predicted Label: SPAM\n"
     ]
    }
   ],
   "source": [
    "for text, label in [\n",
    "    (\"Hey Jason! You're awesome\", \"NOT_SPAM\"),\n",
    "    (\"I am a nigerian prince and I need your help.\", \"SPAM\"),\n",
    "]:\n",
    "    prediction = classify(text)\n",
    "    assert prediction.label == label\n",
    "    print(f\"Text: {text}, Predicted Label: {prediction.label}\")"
   ]
  },
  {
   "cell_type": "code",
   "execution_count": 4,
   "metadata": {},
   "outputs": [
    {
     "name": "stdout",
     "output_type": "stream",
     "text": [
      "Ticket: My account is locked and I can't access my billing info.\n",
      "Predicted Labels: ['TECH_ISSUE', 'BILLING']\n"
     ]
    }
   ],
   "source": [
    "from typing import List\n",
    "from pydantic import BaseModel, Field\n",
    "from typing import Literal\n",
    "\n",
    "\n",
    "class MultiClassPrediction(BaseModel):\n",
    "    \"\"\"\n",
    "    Class for a multi-class label prediction.\n",
    "\n",
    "    Examples:\n",
    "    - \"My account is locked\": [\"TECH_ISSUE\"]\n",
    "    - \"I can't access my billing info\": [\"TECH_ISSUE\", \"BILLING\"]\n",
    "    - \"When do you close for holidays?\": [\"GENERAL_QUERY\"]\n",
    "    - \"My payment didn't go through and now I can't log in\": [\"BILLING\", \"TECH_ISSUE\"]\n",
    "    \"\"\"\n",
    "\n",
    "    chain_of_thought: str = Field(\n",
    "        ...,\n",
    "        description=\"The chain of thought that led to the prediction.\",\n",
    "    )\n",
    "\n",
    "    class_labels: List[Literal[\"TECH_ISSUE\", \"BILLING\", \"GENERAL_QUERY\"]] = Field(\n",
    "        ...,\n",
    "        description=\"The predicted class labels for the support ticket.\",\n",
    "    )\n",
    "\n",
    "import instructor\n",
    "from openai import OpenAI\n",
    "\n",
    "client = instructor.from_openai(OpenAI())\n",
    "\n",
    "\n",
    "def multi_classify(data: str) -> MultiClassPrediction:\n",
    "    \"\"\"Perform multi-label classification on the input text.\"\"\"\n",
    "    return client.chat.completions.create(\n",
    "        model=\"gpt-4o-mini\",\n",
    "        response_model=MultiClassPrediction,\n",
    "        messages=[\n",
    "            {\n",
    "                \"role\": \"user\",\n",
    "                \"content\": f\"Classify the following support ticket: <ticket>{data}</ticket>\",\n",
    "            },\n",
    "        ],\n",
    "    )\n",
    "\n",
    "\n",
    "# Test multi-label classification\n",
    "ticket = \"My account is locked and I can't access my billing info.\"\n",
    "prediction = multi_classify(ticket)\n",
    "assert \"TECH_ISSUE\" in prediction.class_labels\n",
    "assert \"BILLING\" in prediction.class_labels\n",
    "print(f\"Ticket: {ticket}\")\n",
    "#> Ticket: My account is locked and I can't access my billing info.\n",
    "print(f\"Predicted Labels: {prediction.class_labels}\")\n",
    "#> Predicted Labels: ['TECH_ISSUE', 'BILLING']"
   ]
  },
  {
   "cell_type": "code",
   "execution_count": null,
   "metadata": {},
   "outputs": [],
   "source": []
  }
 ],
 "metadata": {
  "kernelspec": {
   "display_name": ".venv",
   "language": "python",
   "name": "python3"
  },
  "language_info": {
   "codemirror_mode": {
    "name": "ipython",
    "version": 3
   },
   "file_extension": ".py",
   "mimetype": "text/x-python",
   "name": "python",
   "nbconvert_exporter": "python",
   "pygments_lexer": "ipython3",
   "version": "3.12.9"
  }
 },
 "nbformat": 4,
 "nbformat_minor": 2
}
